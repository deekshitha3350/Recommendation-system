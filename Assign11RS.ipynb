{
  "nbformat": 4,
  "nbformat_minor": 0,
  "metadata": {
    "colab": {
      "provenance": []
    },
    "kernelspec": {
      "name": "python3",
      "display_name": "Python 3"
    },
    "language_info": {
      "name": "python"
    }
  },
  "cells": [
    {
      "cell_type": "code",
      "execution_count": 2,
      "metadata": {
        "id": "Ey0wgnTEcusK"
      },
      "outputs": [],
      "source": [
        "import pandas as pd\n",
        "import numpy as np\n",
        "from sklearn.metrics.pairwise import cosine_similarity\n",
        "from sklearn.model_selection import train_test_split\n",
        "from sklearn.preprocessing import StandardScaler\n",
        "\n",
        "df = pd.read_csv('anime.csv')"
      ]
    },
    {
      "cell_type": "code",
      "source": [
        "print(df.columns)\n",
        "print(df.head())"
      ],
      "metadata": {
        "colab": {
          "base_uri": "https://localhost:8080/"
        },
        "id": "5IMYFotLdZp7",
        "outputId": "d6d71934-2b44-4cd2-9cb2-efa381e589ec"
      },
      "execution_count": 10,
      "outputs": [
        {
          "output_type": "stream",
          "name": "stdout",
          "text": [
            "Index(['anime_id', 'name', 'genre', 'type', 'episodes', 'rating', 'members'], dtype='object')\n",
            "   anime_id                              name  \\\n",
            "0     32281                    Kimi no Na wa.   \n",
            "1      5114  Fullmetal Alchemist: Brotherhood   \n",
            "2     28977                          Gintama°   \n",
            "3      9253                       Steins;Gate   \n",
            "4      9969                     Gintama&#039;   \n",
            "\n",
            "                                               genre   type episodes  rating  \\\n",
            "0               Drama, Romance, School, Supernatural  Movie        1    9.37   \n",
            "1  Action, Adventure, Drama, Fantasy, Magic, Mili...     TV       64    9.26   \n",
            "2  Action, Comedy, Historical, Parody, Samurai, S...     TV       51    9.25   \n",
            "3                                   Sci-Fi, Thriller     TV       24    9.17   \n",
            "4  Action, Comedy, Historical, Parody, Samurai, S...     TV       51    9.16   \n",
            "\n",
            "   members  \n",
            "0   200630  \n",
            "1   793665  \n",
            "2   114262  \n",
            "3   673572  \n",
            "4   151266  \n"
          ]
        }
      ]
    },
    {
      "cell_type": "code",
      "source": [
        "df = df.dropna(subset=['anime_id', 'genre', 'episodes', 'rating'])"
      ],
      "metadata": {
        "id": "xDcOlI4ldtx5"
      },
      "execution_count": 11,
      "outputs": []
    },
    {
      "cell_type": "code",
      "source": [
        "df['genre'] = df['genre'].astype('category').cat.codes"
      ],
      "metadata": {
        "colab": {
          "base_uri": "https://localhost:8080/"
        },
        "id": "3HdBuJiCeLiA",
        "outputId": "65b70354-e6c2-426d-c6ae-12e507ce7226"
      },
      "execution_count": 12,
      "outputs": [
        {
          "output_type": "stream",
          "name": "stderr",
          "text": [
            "<ipython-input-12-1b6252e32d54>:1: SettingWithCopyWarning: \n",
            "A value is trying to be set on a copy of a slice from a DataFrame.\n",
            "Try using .loc[row_indexer,col_indexer] = value instead\n",
            "\n",
            "See the caveats in the documentation: https://pandas.pydata.org/pandas-docs/stable/user_guide/indexing.html#returning-a-view-versus-a-copy\n",
            "  df['genre'] = df['genre'].astype('category').cat.codes\n"
          ]
        }
      ]
    },
    {
      "cell_type": "code",
      "source": [
        "df['episodes'] = pd.to_numeric(df['episodes'], errors='coerce')\n",
        "\n",
        "scaler = StandardScaler()\n",
        "df[['episodes', 'rating']] = scaler.fit_transform(df[['episodes', 'rating']])"
      ],
      "metadata": {
        "id": "QHX2HaWDeZw1"
      },
      "execution_count": 15,
      "outputs": []
    },
    {
      "cell_type": "code",
      "source": [
        "features = df[['genre', 'episodes', 'rating']]"
      ],
      "metadata": {
        "id": "RrcpI6V_flfS"
      },
      "execution_count": 18,
      "outputs": []
    },
    {
      "cell_type": "code",
      "source": [
        "df['episodes'] = pd.to_numeric(df['episodes'], errors='coerce')\n",
        "\n",
        "df['episodes'] = df['episodes'].fillna(df['episodes'].mean())\n",
        "df['rating'] = df['rating'].fillna(df['rating'].mean())\n",
        "\n",
        "scaler = StandardScaler()\n",
        "df[['episodes', 'rating']] = scaler.fit_transform(df[['episodes', 'rating']])\n",
        "\n",
        "features = df[['genre', 'episodes', 'rating']]\n",
        "cos_sim = cosine_similarity(features)"
      ],
      "metadata": {
        "id": "Yqc4ZMz0nfoE"
      },
      "execution_count": 20,
      "outputs": []
    },
    {
      "cell_type": "code",
      "source": [
        "def recommend_anime(target_anime_id, top_n=5):\n",
        "    # Find the index of the target anime\n",
        "    target_index = df[df['anime_id'] == target_anime_id].index[0]"
      ],
      "metadata": {
        "id": "qNrQ28J_nxKS"
      },
      "execution_count": 30,
      "outputs": []
    },
    {
      "cell_type": "code",
      "source": [
        "cos_sim = cosine_similarity(features)"
      ],
      "metadata": {
        "id": "2fViCp_9n9jj"
      },
      "execution_count": 31,
      "outputs": []
    },
    {
      "cell_type": "code",
      "source": [
        "def recommend_anime(target_anime_id, top_n=5):\n",
        "    target_anime_id = int(target_anime_id)\n",
        "\n",
        "    if target_anime_id not in df['anime_id'].values:\n",
        "        print(f\"Anime with ID {target_anime_id} not found in the dataset.\")\n",
        "        return []\n",
        "\n",
        "    target_index = df[df['anime_id'] == target_anime_id].index[0]\n",
        "\n",
        "    similarity_scores = cos_sim[target_index]\n",
        "    similar_animes_indices = similarity_scores.argsort()[-top_n-1:-1][::-1]\n",
        "\n",
        "    recommended_animes = df.iloc[similar_animes_indices]['anime_id'].values\n",
        "    return recommended_animes\n",
        "\n",
        "target_anime = '877'\n",
        "recommended_animes = recommend_anime(target_anime)\n",
        "print(f\"Recommended Anime for {target_anime}:\")\n",
        "for anime in recommended_animes:\n",
        "    print(anime)"
      ],
      "metadata": {
        "colab": {
          "base_uri": "https://localhost:8080/"
        },
        "id": "BCkc0HEJoxbb",
        "outputId": "9c6cc039-da57-41ac-9dd2-67dd73794b98"
      },
      "execution_count": 38,
      "outputs": [
        {
          "output_type": "stream",
          "name": "stdout",
          "text": [
            "Recommended Anime for 877:\n",
            "690\n",
            "4080\n",
            "5941\n",
            "7\n",
            "272\n"
          ]
        }
      ]
    },
    {
      "cell_type": "code",
      "source": [
        "train, test = train_test_split(df, test_size=0.2, random_state=42)"
      ],
      "metadata": {
        "id": "NPDyyKBnrNzm"
      },
      "execution_count": 39,
      "outputs": []
    }
  ]
}